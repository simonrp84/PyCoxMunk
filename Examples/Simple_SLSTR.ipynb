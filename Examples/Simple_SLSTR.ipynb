{
 "cells": [
  {
   "cell_type": "markdown",
   "id": "d02528ff",
   "metadata": {},
   "source": [
    "# Example processing script for SLSTR data\n",
    "### A simple example for retrieving sea surface reflectance using data from the Sentinel-3 / SLSTR instrument.\n",
    "\n",
    "This script requires SLSTR data, which is available for download at https://scihub.copernicus.eu/\n",
    "\n",
    "A single example scene, together with sample output, is included in the zenodo archive associated with pycoxmunk: https://doi.org/10.5281/zenodo.7885995\n",
    "\n",
    "In this example we compute the sea surface reflectance based on assumed constant winds across the swath. We do not apply cloud or land masking and we do not calculate any of the BRDF parameters."
   ]
  },
  {
   "cell_type": "code",
   "execution_count": 1,
   "id": "c27e8622",
   "metadata": {},
   "outputs": [],
   "source": [
    "%load_ext autoreload\n",
    "%autoreload 2\n",
    "\n",
    "from satpy import Scene, find_files_and_readers\n",
    "from pycoxmunk import PyCoxMunk\n",
    "import numpy as np\n",
    "\n",
    "import warnings\n",
    "warnings.filterwarnings('ignore')"
   ]
  },
  {
   "cell_type": "code",
   "execution_count": 2,
   "id": "37b0e424",
   "metadata": {},
   "outputs": [],
   "source": [
    "# Set which bands we wish to load\n",
    "bnames = ['S1', 'S2', 'S3']\n",
    "\n",
    "# Set the directory containing the SLSTR data dir\n",
    "# This folder should contain one or more subfolders with the SLSTR data (ending .SEN3)\n",
    "# To save memory and CPU time, only use a few granules maximum for this.\n",
    "indir = 'D:/sat_data/slstr/'\n",
    "\n",
    "# Set the directory where we'll save the output\n",
    "outdir = 'D:/sat_data/slstr/out/'"
   ]
  },
  {
   "cell_type": "code",
   "execution_count": 3,
   "id": "28cd1366",
   "metadata": {},
   "outputs": [],
   "source": [
    "# Create a scene by searching for files\n",
    "scn = Scene(find_files_and_readers(base_dir=indir, reader='slstr_l1b'))\n",
    "# Load the bands\n",
    "scn.load(bnames)\n",
    "\n",
    "# Additionally load the solar and satellite angles\n",
    "# This saves computing them internally\n",
    "scn.load(['solar_zenith_angle',\n",
    "          'solar_azimuth_angle',\n",
    "          'satellite_zenith_angle',\n",
    "          'satellite_azimuth_angle'])"
   ]
  },
  {
   "cell_type": "code",
   "execution_count": 4,
   "id": "3d555065",
   "metadata": {},
   "outputs": [],
   "source": [
    "# Create the PyCoxMunk class for processing\n",
    "# The SLSTR data contains angle information, so here we specify `angle_names=None` to prevent\n",
    "# PyCoxMunk from computing angles internally.\n",
    "pcm = PyCoxMunk(scn, bnames, angle_names=None)"
   ]
  },
  {
   "cell_type": "code",
   "execution_count": 5,
   "id": "d21f1c78",
   "metadata": {},
   "outputs": [],
   "source": [
    "# Here we assume a uniform wind, needed for cases we don't have actual wind data\n",
    "# See SEVIRI example for case where wind data is available\n",
    "pcm.setup_wind(1., 1.)"
   ]
  },
  {
   "cell_type": "code",
   "execution_count": 6,
   "id": "ab714a7c",
   "metadata": {},
   "outputs": [],
   "source": [
    "# Retrieve the sea surface reflectance\n",
    "pcm.retr_coxmunk_refl()"
   ]
  },
  {
   "cell_type": "code",
   "execution_count": 7,
   "id": "136378a9",
   "metadata": {},
   "outputs": [],
   "source": [
    "# Save results to the directory specified earlier\n",
    "# Each dataset is saved to its own file.\n",
    "pcm.scn.save_datasets(base_dir=outdir, enhance=False, dtype=np.float32)"
   ]
  },
  {
   "cell_type": "code",
   "execution_count": null,
   "id": "95e1cd1f",
   "metadata": {},
   "outputs": [],
   "source": []
  }
 ],
 "metadata": {
  "kernelspec": {
   "display_name": "Python 3 (ipykernel)",
   "language": "python",
   "name": "python3"
  },
  "language_info": {
   "codemirror_mode": {
    "name": "ipython",
    "version": 3
   },
   "file_extension": ".py",
   "mimetype": "text/x-python",
   "name": "python",
   "nbconvert_exporter": "python",
   "pygments_lexer": "ipython3",
   "version": "3.11.3"
  }
 },
 "nbformat": 4,
 "nbformat_minor": 5
}
