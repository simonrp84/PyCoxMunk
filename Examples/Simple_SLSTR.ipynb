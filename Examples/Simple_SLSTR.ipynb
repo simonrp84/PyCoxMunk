{
 "cells": [
  {
   "cell_type": "markdown",
   "id": "d02528ff",
   "metadata": {
    "pycharm": {
     "name": "#%% md\n"
    }
   },
   "source": [
    "# Example processing script for SLSTR data\n",
    "### A simple example for retrieving sea surface reflectance using data from the Sentinel-3 / SLSTR instrument.\n",
    "\n",
    "This script requires SLSTR data, which is available for download at https://scihub.copernicus.eu/\n",
    "\n",
    "In this example we compute the sea surface reflectance based on assumed constant winds across the swath. We do not apply and cloud or land masking and we do not calculate any of the BRDF parameters."
   ]
  },
  {
   "cell_type": "code",
   "execution_count": 1,
   "id": "c27e8622",
   "metadata": {
    "pycharm": {
     "name": "#%%\n"
    }
   },
   "outputs": [],
   "source": [
    "%load_ext autoreload\n",
    "%autoreload 2\n",
    "\n",
    "from satpy import Scene, find_files_and_readers\n",
    "from pycoxmunk import PyCoxMunk\n",
    "import numpy as np\n",
    "\n",
    "import warnings\n",
    "warnings.filterwarnings('ignore')"
   ]
  },
  {
   "cell_type": "code",
   "execution_count": 2,
   "id": "37b0e424",
   "metadata": {
    "pycharm": {
     "name": "#%%\n"
    }
   },
   "outputs": [],
   "source": [
    "# Set which bands we wish to load\n",
    "bnames = ['S1', 'S2', 'S3']\n",
    "\n",
    "# Set the directory containing the SLSTR data dir\n",
    "# This folder should contain one or more subfolders with the SLSTR data (ending .SEN3)\n",
    "# To save memory and CPU time, only use a few granules maximum for this.\n",
    "indir = 'D:/sat_data/slstr/'\n",
    "\n",
    "# Set the directory where we'll save the output\n",
    "outdir = 'D:/sat_data/slstr/out/'"
   ]
  },
  {
   "cell_type": "code",
   "execution_count": 5,
   "id": "28cd1366",
   "metadata": {
    "pycharm": {
     "name": "#%%\n"
    }
   },
   "outputs": [],
   "source": [
    "# Create a scene by searching for files\n",
    "scn = Scene(find_files_and_readers(base_dir=indir, reader='slstr_l1b'))\n",
    "# Load the bands\n",
    "scn.load(bnames)\n",
    "\n",
    "# Additionally load the solar and satellite angles\n",
    "# This saves computing them internally\n",
    "scn.load(['solar_zenith_angle',\n",
    "          'solar_azimuth_angle',\n",
    "          'satellite_zenith_angle',\n",
    "          'satellite_azimuth_angle'])"
   ]
  },
  {
   "cell_type": "code",
   "execution_count": 7,
   "id": "3d555065",
   "metadata": {
    "pycharm": {
     "name": "#%%\n"
    }
   },
   "outputs": [
    {
     "ename": "KeyError",
     "evalue": "'Input scene does not contain reference dataset, please check inputs.'",
     "output_type": "error",
     "traceback": [
      "\u001b[1;31m---------------------------------------------------------------------------\u001b[0m",
      "\u001b[1;31mKeyError\u001b[0m                                  Traceback (most recent call last)",
      "File \u001b[1;32m~\\PycharmProjects\\satpy\\satpy\\utils.py:345\u001b[0m, in \u001b[0;36mget_satpos\u001b[1;34m(data_arr, preference, use_tle)\u001b[0m\n\u001b[0;32m    344\u001b[0m \u001b[38;5;28;01mtry\u001b[39;00m:\n\u001b[1;32m--> 345\u001b[0m     lon, lat \u001b[38;5;241m=\u001b[39m \u001b[43m_get_sat_lonlat\u001b[49m\u001b[43m(\u001b[49m\u001b[43mdata_arr\u001b[49m\u001b[43m,\u001b[49m\u001b[43m \u001b[49m\u001b[43mlonlat_prefixes\u001b[49m\u001b[43m)\u001b[49m\n\u001b[0;32m    346\u001b[0m     alt \u001b[38;5;241m=\u001b[39m _get_sat_altitude(data_arr, alt_prefixes)\n",
      "File \u001b[1;32m~\\PycharmProjects\\satpy\\satpy\\utils.py:380\u001b[0m, in \u001b[0;36m_get_sat_lonlat\u001b[1;34m(data_arr, key_prefixes)\u001b[0m\n\u001b[0;32m    379\u001b[0m \u001b[38;5;28;01mdef\u001b[39;00m \u001b[38;5;21m_get_sat_lonlat\u001b[39m(data_arr, key_prefixes):\n\u001b[1;32m--> 380\u001b[0m     orb_params \u001b[38;5;241m=\u001b[39m \u001b[43mdata_arr\u001b[49m\u001b[38;5;241;43m.\u001b[39;49m\u001b[43mattrs\u001b[49m\u001b[43m[\u001b[49m\u001b[38;5;124;43m\"\u001b[39;49m\u001b[38;5;124;43morbital_parameters\u001b[39;49m\u001b[38;5;124;43m\"\u001b[39;49m\u001b[43m]\u001b[49m\n\u001b[0;32m    381\u001b[0m     lon_keys \u001b[38;5;241m=\u001b[39m [prefix \u001b[38;5;241m+\u001b[39m \u001b[38;5;124m\"\u001b[39m\u001b[38;5;124mlongitude\u001b[39m\u001b[38;5;124m\"\u001b[39m \u001b[38;5;28;01mfor\u001b[39;00m prefix \u001b[38;5;129;01min\u001b[39;00m key_prefixes]\n",
      "\u001b[1;31mKeyError\u001b[0m: 'orbital_parameters'",
      "\nDuring handling of the above exception, another exception occurred:\n",
      "\u001b[1;31mKeyError\u001b[0m                                  Traceback (most recent call last)",
      "File \u001b[1;32m~\\PycharmProjects\\PyCoxMunk\\pycoxmunk\\CM_SceneGeom.py:39\u001b[0m, in \u001b[0;36mcm_calcangles\u001b[1;34m(inscn, refband)\u001b[0m\n\u001b[0;32m     38\u001b[0m suna, sunz \u001b[38;5;241m=\u001b[39m _get_sun_angles(inscn[refband])\n\u001b[1;32m---> 39\u001b[0m sata, satz \u001b[38;5;241m=\u001b[39m \u001b[43m_get_sensor_angles\u001b[49m\u001b[43m(\u001b[49m\u001b[43minscn\u001b[49m\u001b[43m[\u001b[49m\u001b[43mrefband\u001b[49m\u001b[43m]\u001b[49m\u001b[43m)\u001b[49m\n\u001b[0;32m     41\u001b[0m \u001b[38;5;28mprint\u001b[39m(\u001b[38;5;124m\"\u001b[39m\u001b[38;5;124mHI\u001b[39m\u001b[38;5;124m\"\u001b[39m)\n",
      "File \u001b[1;32m~\\PycharmProjects\\satpy\\satpy\\modifiers\\angles.py:447\u001b[0m, in \u001b[0;36m_get_sensor_angles\u001b[1;34m(data_arr)\u001b[0m\n\u001b[0;32m    446\u001b[0m preference \u001b[38;5;241m=\u001b[39m satpy\u001b[38;5;241m.\u001b[39mconfig\u001b[38;5;241m.\u001b[39mget(\u001b[38;5;124m'\u001b[39m\u001b[38;5;124msensor_angles_position_preference\u001b[39m\u001b[38;5;124m'\u001b[39m, \u001b[38;5;124m'\u001b[39m\u001b[38;5;124mactual\u001b[39m\u001b[38;5;124m'\u001b[39m)\n\u001b[1;32m--> 447\u001b[0m sat_lon, sat_lat, sat_alt \u001b[38;5;241m=\u001b[39m \u001b[43mget_satpos\u001b[49m\u001b[43m(\u001b[49m\u001b[43mdata_arr\u001b[49m\u001b[43m,\u001b[49m\u001b[43m \u001b[49m\u001b[43mpreference\u001b[49m\u001b[38;5;241;43m=\u001b[39;49m\u001b[43mpreference\u001b[49m\u001b[43m)\u001b[49m\n\u001b[0;32m    448\u001b[0m area_def \u001b[38;5;241m=\u001b[39m data_arr\u001b[38;5;241m.\u001b[39mattrs[\u001b[38;5;124m\"\u001b[39m\u001b[38;5;124marea\u001b[39m\u001b[38;5;124m\"\u001b[39m]\n",
      "File \u001b[1;32m~\\PycharmProjects\\satpy\\satpy\\utils.py:353\u001b[0m, in \u001b[0;36mget_satpos\u001b[1;34m(data_arr, preference, use_tle)\u001b[0m\n\u001b[0;32m    352\u001b[0m         \u001b[38;5;28;01mreturn\u001b[39;00m _get_satpos_from_platform_name(data_arr)\n\u001b[1;32m--> 353\u001b[0m     \u001b[38;5;28;01mraise\u001b[39;00m \u001b[38;5;167;01mKeyError\u001b[39;00m(\u001b[38;5;124m\"\u001b[39m\u001b[38;5;124mUnable to determine satellite position. Either the \u001b[39m\u001b[38;5;124m\"\u001b[39m\n\u001b[0;32m    354\u001b[0m                    \u001b[38;5;124m\"\u001b[39m\u001b[38;5;124mreader doesn\u001b[39m\u001b[38;5;124m'\u001b[39m\u001b[38;5;124mt provide that information or \u001b[39m\u001b[38;5;124m\"\u001b[39m\n\u001b[0;32m    355\u001b[0m                    \u001b[38;5;124m\"\u001b[39m\u001b[38;5;124mgeolocation datasets were not available.\u001b[39m\u001b[38;5;124m\"\u001b[39m)\n\u001b[0;32m    356\u001b[0m \u001b[38;5;28;01mreturn\u001b[39;00m lon, lat, alt\n",
      "\u001b[1;31mKeyError\u001b[0m: \"Unable to determine satellite position. Either the reader doesn't provide that information or geolocation datasets were not available.\"",
      "\nDuring handling of the above exception, another exception occurred:\n",
      "\u001b[1;31mKeyError\u001b[0m                                  Traceback (most recent call last)",
      "Cell \u001b[1;32mIn[7], line 2\u001b[0m\n\u001b[0;32m      1\u001b[0m \u001b[38;5;66;03m# Create the PyCoxMunk class for processing\u001b[39;00m\n\u001b[1;32m----> 2\u001b[0m pcm \u001b[38;5;241m=\u001b[39m \u001b[43mPyCoxMunk\u001b[49m\u001b[43m(\u001b[49m\u001b[43mscn\u001b[49m\u001b[43m,\u001b[49m\u001b[43m \u001b[49m\u001b[43mbnames\u001b[49m\u001b[43m)\u001b[49m\n",
      "File \u001b[1;32m~\\PycharmProjects\\PyCoxMunk\\pycoxmunk\\CM_Main.py:132\u001b[0m, in \u001b[0;36mPyCoxMunk.__init__\u001b[1;34m(self, scn, band_names, oc_dir, angle_names, do_brdf, mask_bad, delete_when_done)\u001b[0m\n\u001b[0;32m    130\u001b[0m     \u001b[38;5;28mself\u001b[39m\u001b[38;5;241m.\u001b[39mangle_names \u001b[38;5;241m=\u001b[39m angle_names\n\u001b[0;32m    131\u001b[0m \u001b[38;5;28;01mif\u001b[39;00m angle_names \u001b[38;5;241m==\u001b[39m \u001b[38;5;124m'\u001b[39m\u001b[38;5;124mcalc\u001b[39m\u001b[38;5;124m'\u001b[39m:\n\u001b[1;32m--> 132\u001b[0m     \u001b[38;5;28mself\u001b[39m\u001b[38;5;241m.\u001b[39mscn \u001b[38;5;241m=\u001b[39m \u001b[43mcm_calcangles\u001b[49m\u001b[43m(\u001b[49m\u001b[43mscn\u001b[49m\u001b[43m,\u001b[49m\u001b[43m \u001b[49m\u001b[43mrefband\u001b[49m\u001b[38;5;241;43m=\u001b[39;49m\u001b[43mband_names\u001b[49m\u001b[43m[\u001b[49m\u001b[38;5;241;43m0\u001b[39;49m\u001b[43m]\u001b[49m\u001b[43m)\u001b[49m\n\u001b[0;32m    134\u001b[0m \u001b[38;5;28;01mif\u001b[39;00m oc_dir \u001b[38;5;129;01mis\u001b[39;00m \u001b[38;5;28;01mNone\u001b[39;00m:\n\u001b[0;32m    135\u001b[0m     \u001b[38;5;28mself\u001b[39m\u001b[38;5;241m.\u001b[39muse_occci \u001b[38;5;241m=\u001b[39m \u001b[38;5;28;01mFalse\u001b[39;00m\n",
      "File \u001b[1;32m~\\PycharmProjects\\PyCoxMunk\\pycoxmunk\\CM_SceneGeom.py:53\u001b[0m, in \u001b[0;36mcm_calcangles\u001b[1;34m(inscn, refband)\u001b[0m\n\u001b[0;32m     51\u001b[0m     inscn[\u001b[38;5;124m'\u001b[39m\u001b[38;5;124msolar_zenith_angle\u001b[39m\u001b[38;5;124m'\u001b[39m]\u001b[38;5;241m.\u001b[39mdata \u001b[38;5;241m=\u001b[39m sunz\n\u001b[0;32m     52\u001b[0m \u001b[38;5;28;01mexcept\u001b[39;00m \u001b[38;5;167;01mKeyError\u001b[39;00m:\n\u001b[1;32m---> 53\u001b[0m     \u001b[38;5;28;01mraise\u001b[39;00m \u001b[38;5;167;01mKeyError\u001b[39;00m(\u001b[38;5;124m\"\u001b[39m\u001b[38;5;124mInput scene does not contain reference dataset, please check inputs.\u001b[39m\u001b[38;5;124m\"\u001b[39m)\n\u001b[0;32m     54\u001b[0m \u001b[38;5;28;01mexcept\u001b[39;00m \u001b[38;5;167;01mValueError\u001b[39;00m:\n\u001b[0;32m     55\u001b[0m     \u001b[38;5;28;01mraise\u001b[39;00m \u001b[38;5;167;01mValueError\u001b[39;00m(\u001b[38;5;124m\"\u001b[39m\u001b[38;5;124mCannot retrieve solar and satellite angles, please compute manually and specify.\u001b[39m\u001b[38;5;124m\"\u001b[39m)\n",
      "\u001b[1;31mKeyError\u001b[0m: 'Input scene does not contain reference dataset, please check inputs.'"
     ]
    }
   ],
   "source": [
    "# Create the PyCoxMunk class for processing\n",
    "pcm = PyCoxMunk(scn, bnames, calc_)"
   ]
  },
  {
   "cell_type": "code",
   "execution_count": null,
   "id": "d21f1c78",
   "metadata": {
    "pycharm": {
     "name": "#%%\n"
    }
   },
   "outputs": [],
   "source": [
    "# Here we assume a uniform wind, needed for cases we don't have actual wind data\n",
    "# See SEVIRI example for case where wind data is available\n",
    "pcm.setup_wind(1., 1.)"
   ]
  },
  {
   "cell_type": "code",
   "execution_count": null,
   "id": "ab714a7c",
   "metadata": {
    "pycharm": {
     "name": "#%%\n"
    }
   },
   "outputs": [],
   "source": [
    "# Retrieve the sea surface reflectance\n",
    "pcm.retr_coxmunk_refl()"
   ]
  },
  {
   "cell_type": "code",
   "execution_count": null,
   "id": "136378a9",
   "metadata": {
    "pycharm": {
     "name": "#%%\n"
    }
   },
   "outputs": [],
   "source": [
    "# Save results to the directory specified earlier\n",
    "# Each dataset is saved to its own file.\n",
    "pcm.scn.save_datasets(base_dir=outdir, enhance=False, dtype=np.float32)"
   ]
  },
  {
   "cell_type": "code",
   "execution_count": 1,
   "id": "823f8d5a",
   "metadata": {
    "pycharm": {
     "name": "#%%\n"
    }
   },
   "outputs": [],
   "source": [
    "from pycoxmunk.CM_Shared_Wind import CMSharedWind"
   ]
  },
  {
   "cell_type": "code",
   "execution_count": null,
   "id": "95e1cd1f",
   "metadata": {
    "pycharm": {
     "name": "#%%\n"
    }
   },
   "outputs": [],
   "source": []
  }
 ],
 "metadata": {
  "kernelspec": {
   "display_name": "Python 3 (ipykernel)",
   "language": "python",
   "name": "python3"
  },
  "language_info": {
   "codemirror_mode": {
    "name": "ipython",
    "version": 3
   },
   "file_extension": ".py",
   "mimetype": "text/x-python",
   "name": "python",
   "nbconvert_exporter": "python",
   "pygments_lexer": "ipython3",
   "version": "3.10.8"
  }
 },
 "nbformat": 4,
 "nbformat_minor": 5
}
