{
 "cells": [
  {
   "cell_type": "markdown",
   "id": "d02528ff",
   "metadata": {},
   "source": [
    "# Example processing script for GOES/ABIdata\n",
    "### A simple example for retrieving sea surface reflectance using data from the GOES/ABI instrument.\n",
    "\n",
    "This script uses free and open GOES/ABI data from NOAA's big data project, you do not need to download data in advance as\n",
    "this is done within the notebook itself.\n",
    "\n",
    "Output from this example notebook is available on zenodo: https://doi.org/10.5281/zenodo.7885995\n",
    "\n",
    "NOTE: Additional libraries are required for this notebook:\n",
    " 1) To enable the remote data to be read: `s3fs`.\n",
    " 2) For loading the data in satpy: `h5netcdf`.\n",
    " 3) For saving the results: `rasterio`.\n",
    "\n",
    "Here we compute the sea surface reflectance based on assumed constant winds across the globe. We do not apply cloud or land masking and we do not calculate any of the BRDF parameters.\n",
    "\n",
    "This example assumes that output data should be saved to an out subfolder. This may not be convenient, so you can change the directory using the `out_dir` variable below."
   ]
  },
  {
   "cell_type": "code",
   "execution_count": 6,
   "id": "c27e8622",
   "metadata": {},
   "outputs": [
    {
     "name": "stdout",
     "output_type": "stream",
     "text": [
      "The autoreload extension is already loaded. To reload it, use:\n",
      "  %reload_ext autoreload\n"
     ]
    }
   ],
   "source": [
    "%load_ext autoreload\n",
    "%autoreload 2\n",
    "\n",
    "from satpy import Scene\n",
    "from pycoxmunk import PyCoxMunk\n",
    "import numpy as np\n",
    "import s3fs\n",
    "import os\n",
    "\n",
    "import warnings\n",
    "warnings.filterwarnings('ignore')"
   ]
  },
  {
   "cell_type": "code",
   "execution_count": 16,
   "id": "37b0e424",
   "metadata": {},
   "outputs": [],
   "source": [
    "# Set which bands we wish to load\n",
    "bnames = ['C01', 'C02', 'C04']\n",
    "\n",
    "# Set the directory containing the SLSTR data dir\n",
    "# This folder should contain one or more subfolders with the SLSTR data (ending .SEN3)\n",
    "# To save memory and CPU time, only use a few granules maximum for this.\n",
    "# Downloaded GOES data will be placed into this directory.\n",
    "#\n",
    "# NOTE: Downloaded data is not automatically deleted after the notebook is run!\n",
    "# You must manually delete the files from this directory.\n",
    "indir = './'\n",
    "\n",
    "# Set the directory where we'll save the output\n",
    "outdir = './out/'"
   ]
  },
  {
   "cell_type": "code",
   "execution_count": 27,
   "id": "c8055144",
   "metadata": {},
   "outputs": [],
   "source": [
    "# Preparation, download the data\n",
    "os.makedirs(indir, exist_ok=True)\n",
    "os.makedirs(outdir, exist_ok=True)\n",
    "\n",
    "# Set up an S3 filesystem to download the data\n",
    "fs = s3fs.S3FileSystem(anon=True)\n",
    "\n",
    "# Loop over the bands we have chosen, construct filenames and download if needed.\n",
    "# NOTE: This may take some time depending on which bands you selected and the speed\n",
    "# of your internet connection. the default bands (1, 2, 4) require ~560Mb download.\n",
    "\n",
    "final_fnames = []\n",
    "for band in bnames:\n",
    "    cur_fname = fs.glob(f's3://noaa-goes18/ABI-L1b-RadF/2023/030/20/*{band}*_s20230302000*')[0]\n",
    "    destination_fname = os.path.join(indir, cur_fname.split('/')[-1])\n",
    "    if not os.path.exists(destination_fname):\n",
    "        fs.get_file(cur_fname, destination_fname)\n",
    "    final_fnames.append(destination_fname)"
   ]
  },
  {
   "cell_type": "code",
   "execution_count": 34,
   "id": "28cd1366",
   "metadata": {
    "scrolled": false
   },
   "outputs": [],
   "source": [
    "# Create a scene by searching for files\n",
    "scn = Scene(final_fnames, reader='abi_l1b')\n",
    "# Load the bands\n",
    "scn.load(bnames)\n",
    "\n",
    "# GOES / ABI has bands of different resolutions. PyCoxMunk requires all data to be at the same resolutuion, so we must resample.\n",
    "# Here we resample to the coarsest resolution, 1km at nadir.\n",
    "# We use the `native` resampler as it is the fastest, but other options such as `bilinear` produce more pleasing results.\n",
    "scn = scn.resample(scn.coarsest_area(), resampler='native')"
   ]
  },
  {
   "cell_type": "code",
   "execution_count": 35,
   "id": "3d555065",
   "metadata": {},
   "outputs": [],
   "source": [
    "# Create the PyCoxMunk class for processing\n",
    "# The SLSTR data contains angle information, so here we specify `angle_names=None` to prevent\n",
    "# PyCoxMunk from computing angles internally.\n",
    "pcm = PyCoxMunk(scn, bnames)"
   ]
  },
  {
   "cell_type": "code",
   "execution_count": 36,
   "id": "d21f1c78",
   "metadata": {},
   "outputs": [],
   "source": [
    "# Here we assume a uniform wind, needed for cases we don't have actual wind data\n",
    "# See SEVIRI example for case where wind data is available\n",
    "pcm.setup_wind(1., 1.)"
   ]
  },
  {
   "cell_type": "code",
   "execution_count": 37,
   "id": "ab714a7c",
   "metadata": {},
   "outputs": [],
   "source": [
    "# Retrieve the sea surface reflectance\n",
    "pcm.retr_coxmunk_refl()"
   ]
  },
  {
   "cell_type": "code",
   "execution_count": 38,
   "id": "136378a9",
   "metadata": {},
   "outputs": [],
   "source": [
    "# Save results to the directory specified earlier\n",
    "# Each dataset is saved to its own file.\n",
    "pcm.scn.save_datasets(base_dir=outdir, enhance=False, dtype=np.float32)"
   ]
  },
  {
   "cell_type": "code",
   "execution_count": null,
   "id": "95e1cd1f",
   "metadata": {},
   "outputs": [],
   "source": []
  }
 ],
 "metadata": {
  "kernelspec": {
   "display_name": "Python 3 (ipykernel)",
   "language": "python",
   "name": "python3"
  },
  "language_info": {
   "codemirror_mode": {
    "name": "ipython",
    "version": 3
   },
   "file_extension": ".py",
   "mimetype": "text/x-python",
   "name": "python",
   "nbconvert_exporter": "python",
   "pygments_lexer": "ipython3",
   "version": "3.11.3"
  }
 },
 "nbformat": 4,
 "nbformat_minor": 5
}
