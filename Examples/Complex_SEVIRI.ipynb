{
 "cells": [
  {
   "cell_type": "markdown",
   "id": "4f1777f0",
   "metadata": {
    "pycharm": {
     "name": "#%% md\n"
    }
   },
   "source": [
    "# Example processing script for SEVIRI data\n",
    "### A more complex example than for SLSTR, using a land-mask and ERA5 wind profiles.\n",
    "\n",
    "This script requires MSG/SEVIRI data in native format (although it can be easily edited to use HRIT data instead).\n",
    "\n",
    "For this example, a full disk SEVIRI dataset from 26th March 2016 at 15:00 UTC was used. The data file is available via zenodo:\n",
    "https://doi.org/10.5281/zenodo.7885995\n",
    "\n",
    "The data file is copyright EUMETSAT (2016).\n",
    "\n",
    "\n",
    "ERA5 data is included in the Examples directory. These files were generated using Copernicus Climate Change Service information (2022).\n",
    "\n",
    "Output from this example notebook is available on zenodo at the same link as above.\n",
    "\n",
    "This example assumes that input data is located in the same directory as the notebook itself, and that output data should be saved to an `out` subfolder. These may not be convenient, so you can change the directories with the `sev_fname` and `out_dir` variables below.\n",
    "\n",
    "In this example we compute the sea surface reflectance and also the BRDF values:\n",
    "\n",
    "    - rho_0d: Solar beam to satellite view reflectances\n",
    "    - rho_0d: Solar beam to diffuse reflectances\n",
    "    - rho_dv: Diffuse to satellite view reflectances\n",
    "    - rho_dd: Diffuse to diffuse reflectances\n",
    "    \n",
    "We also apply a land/sea mask (derived from the NASA SRTM data and remapped onto the SEVIRI grid) to mask out all non-water pixels.\n",
    "\n",
    "\n",
    "NOTE: This requires the netcdf and rioxarray python libraries, you must install there for this example to work!\n",
    "They can be installed with:\n",
    "\n",
    "`conda install -c conda-forge netCDF4 rioxarray` or `pip install netCDF4 rioxarray`"
   ]
  },
  {
   "cell_type": "code",
   "execution_count": 1,
   "id": "c715463a",
   "metadata": {
    "pycharm": {
     "name": "#%%\n"
    }
   },
   "outputs": [],
   "source": [
    "%load_ext autoreload\n",
    "%autoreload 2\n",
    "\n",
    "# If you have a powerful machine, the dask library can actually slow things down.\n",
    "# These lines limit the resources dask uses, you may need to experiment with the\n",
    "# `num_workers` argument to find what works best on your own machine.\n",
    "import dask\n",
    "dask.config.set({'array.chunk-size': '32M', 'num_workers': 4})\n",
    "\n",
    "from dask.diagnostics import ResourceProfiler, Profiler, CacheProfiler, visualize"
   ]
  },
  {
   "cell_type": "code",
   "execution_count": 2,
   "id": "c3c82074",
   "metadata": {
    "pycharm": {
     "name": "#%%\n"
    }
   },
   "outputs": [],
   "source": [
    "from satpy import Scene, find_files_and_readers\n",
    "from pyresample import create_area_def\n",
    "from datetime import datetime\n",
    "from netCDF4 import Dataset\n",
    "import dask.array as da\n",
    "import xarray as xr\n",
    "import numpy as np\n",
    "import pycoxmunk\n",
    "\n",
    "import warnings\n",
    "warnings.filterwarnings('ignore')"
   ]
  },
  {
   "cell_type": "code",
   "execution_count": 3,
   "id": "0f07e2b9",
   "metadata": {
    "pycharm": {
     "name": "#%%\n"
    }
   },
   "outputs": [],
   "source": [
    "# Filename of the input granule\n",
    "sev_fname = './MSG3-SEVI-MSG15-0100-NA-20160326151242.278000000Z-NA.nat'\n",
    "\n",
    "# Landmask filename\n",
    "lsm_fname = './SEVIRI_LANDMASK.tiff'\n",
    "\n",
    "# Output directory\n",
    "out_dir = './out/'\n",
    "\n",
    "# Filenames of the U and V 10m wind components, here taken from ERA5\n",
    "u10_fname = './ecmwf-era5_oper_an_sfc_201603261500.10u.nc'\n",
    "v10_fname = './ecmwf-era5_oper_an_sfc_201603261500.10v.nc'\n",
    "\n",
    "# Band name to load / process\n",
    "bnames = ['VIS006', 'VIS008', 'IR_016']\n",
    "\n",
    "# Band names to save\n",
    "bnames_out = ['VIS006', 'VIS008', 'IR_016',\n",
    "              'cox_munk_refl_VIS006', 'cox_munk_refl_VIS008', 'cox_munk_refl_IR_016',\n",
    "              'cox_munk_rhodv_VIS006', 'cox_munk_rho0v_VIS006']\n",
    "              \n",
    "\n",
    "# Cache dir for use in satpy's resample routines\n",
    "# This is optional, but can help speed things up - especially for \n",
    "# geostationary satellites where the area covered is a constant region.\n",
    "cache_dir = './cache/'\n",
    "\n",
    "\n",
    "# A list of datasets that we want to save\n",
    "out_ds_list = []\n",
    "for bname in bnames:\n",
    "    out_ds_list.append(bname)\n",
    "    out_ds_list.append(f'cos_munk_refl_{bname}')\n",
    "    out_ds_list.append(f'cos_munk_rho0d_{bname}')\n",
    "    out_ds_list.append(f'cos_munk_rhodd_{bname}')"
   ]
  },
  {
   "cell_type": "code",
   "execution_count": 4,
   "id": "5e0b928a",
   "metadata": {
    "pycharm": {
     "name": "#%%\n"
    }
   },
   "outputs": [],
   "source": [
    "# A helper function needed for ECMWF processing\n",
    "def load_wind(fname, var, ecm_scn=None, ftype='nc', dater=datetime(2000, 1, 1, 0, 0, 0)):\n",
    "    \"\"\"Load wind datasets from a file.\n",
    "    \n",
    "    This assumes that the winds are in individual netCDF files. It also makes a lot of\n",
    "    assumptions about the data type and area covered. Thus, it will probably not work\n",
    "    for anything other than the ERA5 data used for internal testing but it can be the\n",
    "    basis for your own wind loading functions.\n",
    "    \n",
    "    Inputs:\n",
    "     - fname: String, the input filename.\n",
    "     - var: String, name of variable to read\n",
    "     - ecm_scn: Scene, an existing scene to save data into. If None, a new Scene is created.\n",
    "     - ftype: String, file type. Currently only netCDF ('nc') is supported.\n",
    "     - dater: DateTime, time to set as Scene start_time.\n",
    "    Returns:\n",
    "      - ecm_scn: Scene, containing 'u10' and 'v10' winds.\n",
    "    \"\"\"\n",
    "    if ftype != 'nc':\n",
    "        raise ValueError(\"Only netCDF winds are supported at present.\")\n",
    "    \n",
    "    # Open the netCDF file\n",
    "    fid = Dataset(fname, 'r')\n",
    "    # Load the variable and retrieve the lats + lons\n",
    "    inv = np.array(fid[var]).squeeze()\n",
    "    lat = np.array(fid['latitude']).squeeze()\n",
    "    lon = np.array(fid['longitude']).squeeze()\n",
    "    # ERA5 has lats in range 0 -> 360. Here we switch to -180 -> 180\n",
    "    if np.nanmax(lon) > 180:\n",
    "        inv = np.roll(inv, np.round(inv.shape[1]/2).astype(int))\n",
    "        lon = lon - 180.\n",
    "    # Done with file, close it\n",
    "    fid.close()\n",
    "    \n",
    "    # Create a Scene if there isn't one\n",
    "    if ecm_scn is None:\n",
    "        ecm_scn = Scene()\n",
    "    \n",
    "    # Create an area for use in resampling.\n",
    "    # This assumes lat/lon gridded data\n",
    "    area_ext = (np.nanmin(lon), np.nanmin(lat), np.nanmax(lon), np.nanmax(lat))\n",
    "    targ_area = create_area_def(\"source_area\",\n",
    "                                \"EPSG:4326\",\n",
    "                                area_extent=area_ext,\n",
    "                                width=inv.shape[1],\n",
    "                                height=inv.shape[0])\n",
    "\n",
    "    # Create a new dataset in the Scene for the wind data\n",
    "    ecm_scn[var] = xr.DataArray(da.from_array(inv),\n",
    "                                coords={'y': lat, 'x': lon},\n",
    "                                attrs={'start_time': dater})\n",
    "\n",
    "    ecm_scn[var].attrs['area'] = targ_area\n",
    "    \n",
    "    # Return the scene\n",
    "    return ecm_scn"
   ]
  },
  {
   "cell_type": "code",
   "execution_count": 5,
   "id": "351f79c3",
   "metadata": {
    "pycharm": {
     "name": "#%%\n"
    }
   },
   "outputs": [],
   "source": [
    "# Create a scene for the granule and load data\n",
    "scn = Scene([sev_fname], reader='seviri_l1b_native')\n",
    "scn.load(bnames, upper_right_corner='NE')"
   ]
  },
  {
   "cell_type": "code",
   "execution_count": 6,
   "id": "fb118cb5",
   "metadata": {
    "pycharm": {
     "name": "#%%\n"
    }
   },
   "outputs": [],
   "source": [
    "# Load the ECMWF wind\n",
    "ecm_scn = load_wind(u10_fname, 'u10', ecm_scn=None)\n",
    "ecm_scn = load_wind(v10_fname, 'v10', ecm_scn=ecm_scn)"
   ]
  },
  {
   "cell_type": "code",
   "execution_count": 7,
   "id": "f15954c7",
   "metadata": {
    "pycharm": {
     "name": "#%%\n"
    }
   },
   "outputs": [],
   "source": [
    "# Load the land mask\n",
    "lsm_scn = Scene([lsm_fname], reader='generic_image')\n",
    "lsm_scn.load(['image'])"
   ]
  },
  {
   "cell_type": "code",
   "execution_count": 8,
   "id": "feb04898",
   "metadata": {
    "pycharm": {
     "name": "#%%\n"
    }
   },
   "outputs": [],
   "source": [
    "# Resample the ECMWF wind data onto the satellite grid\n",
    "ecm_scn2 = ecm_scn.resample(scn[bnames[0]].attrs['area'],\n",
    "                            resampler='nearest', cache_dir=cache_dir,\n",
    "                            radius_of_influence=150000)"
   ]
  },
  {
   "cell_type": "code",
   "execution_count": 9,
   "id": "122fdbf8",
   "metadata": {
    "pycharm": {
     "name": "#%%\n"
    }
   },
   "outputs": [],
   "source": [
    "# Copy the winds from the ECMWF scene into the satellite scene.\n",
    "# This simplifies calling PyCoxMunk, as we only need to pass\n",
    "# one scene instead of two\n",
    "scn['u10'] = ecm_scn2['u10'].copy()\n",
    "scn['v10'] = ecm_scn2['v10'].copy()"
   ]
  },
  {
   "cell_type": "code",
   "execution_count": 10,
   "id": "e1c4a155",
   "metadata": {
    "pycharm": {
     "name": "#%%\n"
    }
   },
   "outputs": [],
   "source": [
    "# Create the PyCoxMunk class\n",
    "pcm = pycoxmunk.PyCoxMunk(scn, bnames, angle_names='calc', delete_when_done=False, mask_bad=False, do_brdf=True)"
   ]
  },
  {
   "cell_type": "code",
   "execution_count": 11,
   "id": "7cd3640c",
   "metadata": {
    "pycharm": {
     "name": "#%%\n"
    }
   },
   "outputs": [],
   "source": [
    "# Set up the wind variables within PyCoxMunk\n",
    "pcm.setup_wind(scn['u10'], scn['v10'])"
   ]
  },
  {
   "cell_type": "code",
   "execution_count": 12,
   "id": "bbaa5bf4",
   "metadata": {
    "pycharm": {
     "name": "#%%\n"
    }
   },
   "outputs": [],
   "source": [
    "# Set up the pixel masking\n",
    "pcm.setup_pixmask(land_mask=np.array(lsm_scn['image'].data).squeeze())"
   ]
  },
  {
   "cell_type": "code",
   "execution_count": 13,
   "id": "3d7343d9",
   "metadata": {
    "pycharm": {
     "name": "#%%\n"
    },
    "scrolled": false
   },
   "outputs": [],
   "source": [
    "# Retrieve the sea surface reflectance\n",
    "pcm.retr_coxmunk_refl()"
   ]
  },
  {
   "cell_type": "code",
   "execution_count": 14,
   "id": "6f2c3cbc",
   "metadata": {
    "pycharm": {
     "name": "#%%\n"
    },
    "scrolled": false
   },
   "outputs": [],
   "source": [
    "# Save original data to disk.\n",
    "pcm.scn.save_datasets(datasets=bnames_out, base_dir=out_dir, enhance=False, dtype=np.float32)"
   ]
  },
  {
   "cell_type": "code",
   "execution_count": null,
   "id": "368e118e",
   "metadata": {},
   "outputs": [],
   "source": []
  }
 ],
 "metadata": {
  "kernelspec": {
   "display_name": "Python 3 (ipykernel)",
   "language": "python",
   "name": "python3"
  },
  "language_info": {
   "codemirror_mode": {
    "name": "ipython",
    "version": 3
   },
   "file_extension": ".py",
   "mimetype": "text/x-python",
   "name": "python",
   "nbconvert_exporter": "python",
   "pygments_lexer": "ipython3",
   "version": "3.11.3"
  }
 },
 "nbformat": 4,
 "nbformat_minor": 5
}
